{
 "cells": [
  {
   "cell_type": "code",
   "execution_count": 1,
   "metadata": {
    "collapsed": false
   },
   "outputs": [],
   "source": [
    "# load packages needed \n",
    "import pandas as pd\n",
    "import matplotlib.pyplot as plt\n",
    "import seaborn as sns\n",
    "import numpy as np\n",
    "from scipy.stats import norm\n",
    "from sklearn.preprocessing import StandardScaler\n",
    "from scipy import stats\n",
    "import warnings\n",
    "warnings.filterwarnings('ignore')\n",
    "%matplotlib inline"
   ]
  },
  {
   "cell_type": "code",
   "execution_count": null,
   "metadata": {
    "collapsed": true
   },
   "outputs": [],
   "source": [
    "# set pd display settings \n",
    "pd.set_option('display.max_columns', 100)"
   ]
  },
  {
   "cell_type": "code",
   "execution_count": 57,
   "metadata": {
    "collapsed": true
   },
   "outputs": [],
   "source": [
    "# load data dictionary document\n",
    "df_dict = pd.read_csv('./data/zillow_data_dictionary_ms.csv')\n",
    "df_dict['Feature'] = df_dict.Feature.str.slice(1,-1)\n",
    "df_dict['Type1'] = [str if x=='c' else np.float64 for x in df_dict.Type]\n",
    "# generate intermediate dict to be used in read_csv statement\n",
    "var_type = dict(zip(df_dict.Feature, df_dict.Type1))"
   ]
  },
  {
   "cell_type": "code",
   "execution_count": 58,
   "metadata": {
    "collapsed": false
   },
   "outputs": [],
   "source": [
    "# list of vars that are numeric in value but should be categorical\n",
    "str_varlist = df_dict.Feature[df_dict.Type == 'c']"
   ]
  },
  {
   "cell_type": "code",
   "execution_count": 30,
   "metadata": {
    "collapsed": false,
    "scrolled": true
   },
   "outputs": [],
   "source": [
    "# load observation data into \n",
    "df_obs = pd.read_csv('./data/properties_2016.csv')\n",
    "\n",
    "# load performance data\n",
    "df_perf = pd.read_csv('./data/train_2016.csv')"
   ]
  },
  {
   "cell_type": "code",
   "execution_count": 61,
   "metadata": {
    "collapsed": false
   },
   "outputs": [],
   "source": [
    "# convert categorical vars to string format\n",
    "for varname in list(str_varlist):\n",
    "    if temp[varname].dtype != np.object:\n",
    "        df_obs[varname] = df_obs[varname].astype('str')\n",
    "    else:\n",
    "        pass\n",
    "    \n",
    "# check resulting column type \n",
    "df_obs.dtypes"
   ]
  },
  {
   "cell_type": "code",
   "execution_count": 68,
   "metadata": {
    "collapsed": false,
    "scrolled": true
   },
   "outputs": [],
   "source": [
    "# keep a small sample of data for testing purpose\n",
    "df_obs_samp = df_obs.sample(n=10000, replace=False)\n",
    "df_perf_samp = df_perf.sample(n=10000, replace=False)"
   ]
  },
  {
   "cell_type": "code",
   "execution_count": 77,
   "metadata": {
    "collapsed": false
   },
   "outputs": [
    {
     "data": {
      "text/plain": [
       "Index([u'parcelid', u'logerror', u'transactiondate', u'airconditioningtypeid',\n",
       "       u'architecturalstyletypeid', u'basementsqft', u'bathroomcnt',\n",
       "       u'bedroomcnt', u'buildingclasstypeid', u'buildingqualitytypeid',\n",
       "       u'calculatedbathnbr', u'decktypeid', u'finishedfloor1squarefeet',\n",
       "       u'calculatedfinishedsquarefeet', u'finishedsquarefeet12',\n",
       "       u'finishedsquarefeet13', u'finishedsquarefeet15',\n",
       "       u'finishedsquarefeet50', u'finishedsquarefeet6', u'fips',\n",
       "       u'fireplacecnt', u'fullbathcnt', u'garagecarcnt', u'garagetotalsqft',\n",
       "       u'hashottuborspa', u'heatingorsystemtypeid', u'latitude', u'longitude',\n",
       "       u'lotsizesquarefeet', u'poolcnt', u'poolsizesum', u'pooltypeid10',\n",
       "       u'pooltypeid2', u'pooltypeid7', u'propertycountylandusecode',\n",
       "       u'propertylandusetypeid', u'propertyzoningdesc',\n",
       "       u'rawcensustractandblock', u'regionidcity', u'regionidcounty',\n",
       "       u'regionidneighborhood', u'regionidzip', u'roomcnt', u'storytypeid',\n",
       "       u'threequarterbathnbr', u'typeconstructiontypeid', u'unitcnt',\n",
       "       u'yardbuildingsqft17', u'yardbuildingsqft26', u'yearbuilt',\n",
       "       u'numberofstories', u'fireplaceflag', u'structuretaxvaluedollarcnt',\n",
       "       u'taxvaluedollarcnt', u'assessmentyear', u'landtaxvaluedollarcnt',\n",
       "       u'taxamount', u'taxdelinquencyflag', u'taxdelinquencyyear',\n",
       "       u'censustractandblock'],\n",
       "      dtype='object')"
      ]
     },
     "execution_count": 77,
     "metadata": {},
     "output_type": "execute_result"
    }
   ],
   "source": [
    "# Merge obs and perf data together on parcelID\n",
    "df_merged = df_perf_samp.merge(df_obs_samp,on='parcelid',how='inner',sort=True)\n",
    "df_merged.columns"
   ]
  },
  {
   "cell_type": "code",
   "execution_count": 78,
   "metadata": {
    "collapsed": false
   },
   "outputs": [
    {
     "name": "stdout",
     "output_type": "stream",
     "text": [
      "<bound method DataFrame.count of Empty DataFrame\n",
      "Columns: [parcelid, logerror, transactiondate, airconditioningtypeid, architecturalstyletypeid, basementsqft, bathroomcnt, bedroomcnt, buildingclasstypeid, buildingqualitytypeid, calculatedbathnbr, decktypeid, finishedfloor1squarefeet, calculatedfinishedsquarefeet, finishedsquarefeet12, finishedsquarefeet13, finishedsquarefeet15, finishedsquarefeet50, finishedsquarefeet6, fips, fireplacecnt, fullbathcnt, garagecarcnt, garagetotalsqft, hashottuborspa, heatingorsystemtypeid, latitude, longitude, lotsizesquarefeet, poolcnt, poolsizesum, pooltypeid10, pooltypeid2, pooltypeid7, propertycountylandusecode, propertylandusetypeid, propertyzoningdesc, rawcensustractandblock, regionidcity, regionidcounty, regionidneighborhood, regionidzip, roomcnt, storytypeid, threequarterbathnbr, typeconstructiontypeid, unitcnt, yardbuildingsqft17, yardbuildingsqft26, yearbuilt, numberofstories, fireplaceflag, structuretaxvaluedollarcnt, taxvaluedollarcnt, assessmentyear, landtaxvaluedollarcnt, taxamount, taxdelinquencyflag, taxdelinquencyyear, censustractandblock]\n",
      "Index: []>\n"
     ]
    }
   ],
   "source": [
    "??? why empty?\n",
    "df_merged.count"
   ]
  },
  {
   "cell_type": "code",
   "execution_count": null,
   "metadata": {
    "collapsed": true
   },
   "outputs": [],
   "source": []
  },
  {
   "cell_type": "code",
   "execution_count": null,
   "metadata": {
    "collapsed": true
   },
   "outputs": [],
   "source": []
  },
  {
   "cell_type": "code",
   "execution_count": null,
   "metadata": {
    "collapsed": true
   },
   "outputs": [],
   "source": []
  },
  {
   "cell_type": "code",
   "execution_count": null,
   "metadata": {
    "collapsed": true
   },
   "outputs": [],
   "source": []
  },
  {
   "cell_type": "code",
   "execution_count": null,
   "metadata": {
    "collapsed": true
   },
   "outputs": [],
   "source": []
  },
  {
   "cell_type": "code",
   "execution_count": null,
   "metadata": {
    "collapsed": true
   },
   "outputs": [],
   "source": []
  },
  {
   "cell_type": "code",
   "execution_count": 69,
   "metadata": {
    "collapsed": false
   },
   "outputs": [
    {
     "data": {
      "text/plain": [
       "Index([u'parcelid', u'logerror', u'transactiondate'], dtype='object')"
      ]
     },
     "execution_count": 69,
     "metadata": {},
     "output_type": "execute_result"
    }
   ],
   "source": [
    "df_perf_samp.columns"
   ]
  },
  {
   "cell_type": "code",
   "execution_count": 7,
   "metadata": {
    "collapsed": false
   },
   "outputs": [
    {
     "ename": "AttributeError",
     "evalue": "'module' object has no attribute 'set_printoptions'",
     "output_type": "error",
     "traceback": [
      "\u001b[1;31m---------------------------------------------------------------------------\u001b[0m",
      "\u001b[1;31mAttributeError\u001b[0m                            Traceback (most recent call last)",
      "\u001b[1;32m<ipython-input-7-cc59a55569dc>\u001b[0m in \u001b[0;36m<module>\u001b[1;34m()\u001b[0m\n\u001b[0;32m      1\u001b[0m \u001b[1;31m# check data\u001b[0m\u001b[1;33m\u001b[0m\u001b[1;33m\u001b[0m\u001b[0m\n\u001b[1;32m----> 2\u001b[1;33m \u001b[0mpd\u001b[0m\u001b[1;33m.\u001b[0m\u001b[0mset_printoptions\u001b[0m\u001b[1;33m(\u001b[0m\u001b[0mmax_columns\u001b[0m\u001b[1;33m=\u001b[0m\u001b[1;36m60\u001b[0m\u001b[1;33m)\u001b[0m\u001b[1;33m\u001b[0m\u001b[0m\n\u001b[0m\u001b[0;32m      3\u001b[0m \u001b[0mdf_obs\u001b[0m\u001b[1;33m.\u001b[0m\u001b[0mhead\u001b[0m\u001b[1;33m(\u001b[0m\u001b[0mn\u001b[0m\u001b[1;33m=\u001b[0m\u001b[1;36m10\u001b[0m\u001b[1;33m)\u001b[0m\u001b[1;33m\u001b[0m\u001b[0m\n",
      "\u001b[1;31mAttributeError\u001b[0m: 'module' object has no attribute 'set_printoptions'"
     ]
    }
   ],
   "source": [
    "# check data\n",
    "df_obs.head(n=10)"
   ]
  },
  {
   "cell_type": "code",
   "execution_count": 3,
   "metadata": {
    "collapsed": true
   },
   "outputs": [],
   "source": [
    "df_sample = df_obs.sample(frac=0.05, replace=False)"
   ]
  },
  {
   "cell_type": "code",
   "execution_count": 15,
   "metadata": {
    "collapsed": false
   },
   "outputs": [
    {
     "data": {
      "text/plain": [
       "240.0    151\n",
       "200.0    138\n",
       "300.0    112\n",
       "180.0     82\n",
       "288.0     75\n",
       "360.0     67\n",
       "280.0     63\n",
       "216.0     58\n",
       "144.0     57\n",
       "400.0     50\n",
       "160.0     50\n",
       "336.0     50\n",
       "100.0     45\n",
       "120.0     45\n",
       "220.0     42\n",
       "192.0     42\n",
       "168.0     38\n",
       "150.0     35\n",
       "224.0     33\n",
       "250.0     33\n",
       "420.0     33\n",
       "320.0     33\n",
       "270.0     33\n",
       "264.0     32\n",
       "480.0     31\n",
       "450.0     31\n",
       "384.0     30\n",
       "260.0     29\n",
       "350.0     29\n",
       "252.0     28\n",
       "        ... \n",
       "701.0      1\n",
       "698.0      1\n",
       "590.0      1\n",
       "692.0      1\n",
       "591.0      1\n",
       "599.0      1\n",
       "605.0      1\n",
       "610.0      1\n",
       "617.0      1\n",
       "618.0      1\n",
       "627.0      1\n",
       "629.0      1\n",
       "630.0      1\n",
       "631.0      1\n",
       "635.0      1\n",
       "637.0      1\n",
       "638.0      1\n",
       "643.0      1\n",
       "646.0      1\n",
       "657.0      1\n",
       "658.0      1\n",
       "668.0      1\n",
       "670.0      1\n",
       "682.0      1\n",
       "683.0      1\n",
       "684.0      1\n",
       "685.0      1\n",
       "688.0      1\n",
       "689.0      1\n",
       "11.0       1\n",
       "Name: yardbuildingsqft17, dtype: int64"
      ]
     },
     "execution_count": 15,
     "metadata": {},
     "output_type": "execute_result"
    }
   ],
   "source": [
    "df_sample.yardbuildingsqft17.value_counts()"
   ]
  },
  {
   "cell_type": "code",
   "execution_count": 6,
   "metadata": {
    "collapsed": false,
    "scrolled": false
   },
   "outputs": [
    {
     "data": {
      "text/html": [
       "<div>\n",
       "<table border=\"1\" class=\"dataframe\">\n",
       "  <thead>\n",
       "    <tr style=\"text-align: right;\">\n",
       "      <th></th>\n",
       "      <th>parcelid</th>\n",
       "      <th>airconditioningtypeid</th>\n",
       "      <th>architecturalstyletypeid</th>\n",
       "      <th>basementsqft</th>\n",
       "      <th>bathroomcnt</th>\n",
       "      <th>bedroomcnt</th>\n",
       "      <th>buildingclasstypeid</th>\n",
       "      <th>buildingqualitytypeid</th>\n",
       "      <th>calculatedbathnbr</th>\n",
       "      <th>decktypeid</th>\n",
       "      <th>...</th>\n",
       "      <th>numberofstories</th>\n",
       "      <th>fireplaceflag</th>\n",
       "      <th>structuretaxvaluedollarcnt</th>\n",
       "      <th>taxvaluedollarcnt</th>\n",
       "      <th>assessmentyear</th>\n",
       "      <th>landtaxvaluedollarcnt</th>\n",
       "      <th>taxamount</th>\n",
       "      <th>taxdelinquencyflag</th>\n",
       "      <th>taxdelinquencyyear</th>\n",
       "      <th>censustractandblock</th>\n",
       "    </tr>\n",
       "  </thead>\n",
       "  <tbody>\n",
       "    <tr>\n",
       "      <th>2869608</th>\n",
       "      <td>13124740</td>\n",
       "      <td>NaN</td>\n",
       "      <td>NaN</td>\n",
       "      <td>NaN</td>\n",
       "      <td>0.0</td>\n",
       "      <td>0.0</td>\n",
       "      <td>NaN</td>\n",
       "      <td>NaN</td>\n",
       "      <td>NaN</td>\n",
       "      <td>NaN</td>\n",
       "      <td>...</td>\n",
       "      <td>NaN</td>\n",
       "      <td>NaN</td>\n",
       "      <td>NaN</td>\n",
       "      <td>NaN</td>\n",
       "      <td>2015.0</td>\n",
       "      <td>NaN</td>\n",
       "      <td>415.56</td>\n",
       "      <td>NaN</td>\n",
       "      <td>NaN</td>\n",
       "      <td>NaN</td>\n",
       "    </tr>\n",
       "    <tr>\n",
       "      <th>2463813</th>\n",
       "      <td>13877876</td>\n",
       "      <td>NaN</td>\n",
       "      <td>NaN</td>\n",
       "      <td>NaN</td>\n",
       "      <td>2.0</td>\n",
       "      <td>4.0</td>\n",
       "      <td>NaN</td>\n",
       "      <td>NaN</td>\n",
       "      <td>2.0</td>\n",
       "      <td>NaN</td>\n",
       "      <td>...</td>\n",
       "      <td>1.0</td>\n",
       "      <td>NaN</td>\n",
       "      <td>73352.0</td>\n",
       "      <td>259628.0</td>\n",
       "      <td>2015.0</td>\n",
       "      <td>186276.0</td>\n",
       "      <td>3216.78</td>\n",
       "      <td>NaN</td>\n",
       "      <td>NaN</td>\n",
       "      <td>6.059087e+13</td>\n",
       "    </tr>\n",
       "    <tr>\n",
       "      <th>394968</th>\n",
       "      <td>12627935</td>\n",
       "      <td>NaN</td>\n",
       "      <td>NaN</td>\n",
       "      <td>NaN</td>\n",
       "      <td>1.0</td>\n",
       "      <td>1.0</td>\n",
       "      <td>NaN</td>\n",
       "      <td>7.0</td>\n",
       "      <td>1.0</td>\n",
       "      <td>NaN</td>\n",
       "      <td>...</td>\n",
       "      <td>NaN</td>\n",
       "      <td>NaN</td>\n",
       "      <td>40720.0</td>\n",
       "      <td>172690.0</td>\n",
       "      <td>2015.0</td>\n",
       "      <td>131970.0</td>\n",
       "      <td>2129.00</td>\n",
       "      <td>NaN</td>\n",
       "      <td>NaN</td>\n",
       "      <td>6.037295e+13</td>\n",
       "    </tr>\n",
       "    <tr>\n",
       "      <th>238883</th>\n",
       "      <td>17266750</td>\n",
       "      <td>NaN</td>\n",
       "      <td>NaN</td>\n",
       "      <td>NaN</td>\n",
       "      <td>2.0</td>\n",
       "      <td>3.0</td>\n",
       "      <td>NaN</td>\n",
       "      <td>NaN</td>\n",
       "      <td>2.0</td>\n",
       "      <td>NaN</td>\n",
       "      <td>...</td>\n",
       "      <td>1.0</td>\n",
       "      <td>NaN</td>\n",
       "      <td>192000.0</td>\n",
       "      <td>551000.0</td>\n",
       "      <td>2015.0</td>\n",
       "      <td>359000.0</td>\n",
       "      <td>5877.88</td>\n",
       "      <td>NaN</td>\n",
       "      <td>NaN</td>\n",
       "      <td>6.111006e+13</td>\n",
       "    </tr>\n",
       "    <tr>\n",
       "      <th>451294</th>\n",
       "      <td>11846506</td>\n",
       "      <td>NaN</td>\n",
       "      <td>NaN</td>\n",
       "      <td>NaN</td>\n",
       "      <td>2.0</td>\n",
       "      <td>4.0</td>\n",
       "      <td>NaN</td>\n",
       "      <td>4.0</td>\n",
       "      <td>2.0</td>\n",
       "      <td>NaN</td>\n",
       "      <td>...</td>\n",
       "      <td>NaN</td>\n",
       "      <td>NaN</td>\n",
       "      <td>58726.0</td>\n",
       "      <td>89092.0</td>\n",
       "      <td>2015.0</td>\n",
       "      <td>30366.0</td>\n",
       "      <td>1378.44</td>\n",
       "      <td>NaN</td>\n",
       "      <td>NaN</td>\n",
       "      <td>6.037483e+13</td>\n",
       "    </tr>\n",
       "    <tr>\n",
       "      <th>313301</th>\n",
       "      <td>17307716</td>\n",
       "      <td>NaN</td>\n",
       "      <td>NaN</td>\n",
       "      <td>NaN</td>\n",
       "      <td>0.0</td>\n",
       "      <td>0.0</td>\n",
       "      <td>NaN</td>\n",
       "      <td>NaN</td>\n",
       "      <td>NaN</td>\n",
       "      <td>NaN</td>\n",
       "      <td>...</td>\n",
       "      <td>NaN</td>\n",
       "      <td>NaN</td>\n",
       "      <td>10700.0</td>\n",
       "      <td>10700.0</td>\n",
       "      <td>2015.0</td>\n",
       "      <td>NaN</td>\n",
       "      <td>124.72</td>\n",
       "      <td>NaN</td>\n",
       "      <td>NaN</td>\n",
       "      <td>6.111005e+13</td>\n",
       "    </tr>\n",
       "    <tr>\n",
       "      <th>2190233</th>\n",
       "      <td>11592552</td>\n",
       "      <td>NaN</td>\n",
       "      <td>NaN</td>\n",
       "      <td>NaN</td>\n",
       "      <td>1.0</td>\n",
       "      <td>1.0</td>\n",
       "      <td>NaN</td>\n",
       "      <td>7.0</td>\n",
       "      <td>1.0</td>\n",
       "      <td>NaN</td>\n",
       "      <td>...</td>\n",
       "      <td>NaN</td>\n",
       "      <td>NaN</td>\n",
       "      <td>103629.0</td>\n",
       "      <td>518148.0</td>\n",
       "      <td>2015.0</td>\n",
       "      <td>414519.0</td>\n",
       "      <td>6450.80</td>\n",
       "      <td>NaN</td>\n",
       "      <td>NaN</td>\n",
       "      <td>6.037701e+13</td>\n",
       "    </tr>\n",
       "    <tr>\n",
       "      <th>550805</th>\n",
       "      <td>17155067</td>\n",
       "      <td>NaN</td>\n",
       "      <td>NaN</td>\n",
       "      <td>NaN</td>\n",
       "      <td>3.0</td>\n",
       "      <td>3.0</td>\n",
       "      <td>NaN</td>\n",
       "      <td>NaN</td>\n",
       "      <td>3.0</td>\n",
       "      <td>NaN</td>\n",
       "      <td>...</td>\n",
       "      <td>1.0</td>\n",
       "      <td>NaN</td>\n",
       "      <td>119000.0</td>\n",
       "      <td>338000.0</td>\n",
       "      <td>2015.0</td>\n",
       "      <td>219000.0</td>\n",
       "      <td>3865.40</td>\n",
       "      <td>NaN</td>\n",
       "      <td>NaN</td>\n",
       "      <td>6.111004e+13</td>\n",
       "    </tr>\n",
       "    <tr>\n",
       "      <th>528246</th>\n",
       "      <td>12479399</td>\n",
       "      <td>1.0</td>\n",
       "      <td>NaN</td>\n",
       "      <td>NaN</td>\n",
       "      <td>2.0</td>\n",
       "      <td>3.0</td>\n",
       "      <td>NaN</td>\n",
       "      <td>7.0</td>\n",
       "      <td>2.0</td>\n",
       "      <td>NaN</td>\n",
       "      <td>...</td>\n",
       "      <td>NaN</td>\n",
       "      <td>NaN</td>\n",
       "      <td>90000.0</td>\n",
       "      <td>449000.0</td>\n",
       "      <td>2015.0</td>\n",
       "      <td>359000.0</td>\n",
       "      <td>6051.59</td>\n",
       "      <td>NaN</td>\n",
       "      <td>NaN</td>\n",
       "      <td>6.037570e+13</td>\n",
       "    </tr>\n",
       "    <tr>\n",
       "      <th>2289799</th>\n",
       "      <td>14355087</td>\n",
       "      <td>NaN</td>\n",
       "      <td>NaN</td>\n",
       "      <td>NaN</td>\n",
       "      <td>3.5</td>\n",
       "      <td>4.0</td>\n",
       "      <td>NaN</td>\n",
       "      <td>NaN</td>\n",
       "      <td>3.5</td>\n",
       "      <td>NaN</td>\n",
       "      <td>...</td>\n",
       "      <td>NaN</td>\n",
       "      <td>NaN</td>\n",
       "      <td>636716.0</td>\n",
       "      <td>1156442.0</td>\n",
       "      <td>2015.0</td>\n",
       "      <td>519726.0</td>\n",
       "      <td>16472.82</td>\n",
       "      <td>NaN</td>\n",
       "      <td>NaN</td>\n",
       "      <td>6.059052e+13</td>\n",
       "    </tr>\n",
       "  </tbody>\n",
       "</table>\n",
       "<p>10 rows × 58 columns</p>\n",
       "</div>"
      ],
      "text/plain": [
       "         parcelid  airconditioningtypeid  architecturalstyletypeid  \\\n",
       "2869608  13124740                    NaN                       NaN   \n",
       "2463813  13877876                    NaN                       NaN   \n",
       "394968   12627935                    NaN                       NaN   \n",
       "238883   17266750                    NaN                       NaN   \n",
       "451294   11846506                    NaN                       NaN   \n",
       "313301   17307716                    NaN                       NaN   \n",
       "2190233  11592552                    NaN                       NaN   \n",
       "550805   17155067                    NaN                       NaN   \n",
       "528246   12479399                    1.0                       NaN   \n",
       "2289799  14355087                    NaN                       NaN   \n",
       "\n",
       "         basementsqft  bathroomcnt  bedroomcnt  buildingclasstypeid  \\\n",
       "2869608           NaN          0.0         0.0                  NaN   \n",
       "2463813           NaN          2.0         4.0                  NaN   \n",
       "394968            NaN          1.0         1.0                  NaN   \n",
       "238883            NaN          2.0         3.0                  NaN   \n",
       "451294            NaN          2.0         4.0                  NaN   \n",
       "313301            NaN          0.0         0.0                  NaN   \n",
       "2190233           NaN          1.0         1.0                  NaN   \n",
       "550805            NaN          3.0         3.0                  NaN   \n",
       "528246            NaN          2.0         3.0                  NaN   \n",
       "2289799           NaN          3.5         4.0                  NaN   \n",
       "\n",
       "         buildingqualitytypeid  calculatedbathnbr  decktypeid  \\\n",
       "2869608                    NaN                NaN         NaN   \n",
       "2463813                    NaN                2.0         NaN   \n",
       "394968                     7.0                1.0         NaN   \n",
       "238883                     NaN                2.0         NaN   \n",
       "451294                     4.0                2.0         NaN   \n",
       "313301                     NaN                NaN         NaN   \n",
       "2190233                    7.0                1.0         NaN   \n",
       "550805                     NaN                3.0         NaN   \n",
       "528246                     7.0                2.0         NaN   \n",
       "2289799                    NaN                3.5         NaN   \n",
       "\n",
       "                ...           numberofstories  fireplaceflag  \\\n",
       "2869608         ...                       NaN            NaN   \n",
       "2463813         ...                       1.0            NaN   \n",
       "394968          ...                       NaN            NaN   \n",
       "238883          ...                       1.0            NaN   \n",
       "451294          ...                       NaN            NaN   \n",
       "313301          ...                       NaN            NaN   \n",
       "2190233         ...                       NaN            NaN   \n",
       "550805          ...                       1.0            NaN   \n",
       "528246          ...                       NaN            NaN   \n",
       "2289799         ...                       NaN            NaN   \n",
       "\n",
       "         structuretaxvaluedollarcnt  taxvaluedollarcnt  assessmentyear  \\\n",
       "2869608                         NaN                NaN          2015.0   \n",
       "2463813                     73352.0           259628.0          2015.0   \n",
       "394968                      40720.0           172690.0          2015.0   \n",
       "238883                     192000.0           551000.0          2015.0   \n",
       "451294                      58726.0            89092.0          2015.0   \n",
       "313301                      10700.0            10700.0          2015.0   \n",
       "2190233                    103629.0           518148.0          2015.0   \n",
       "550805                     119000.0           338000.0          2015.0   \n",
       "528246                      90000.0           449000.0          2015.0   \n",
       "2289799                    636716.0          1156442.0          2015.0   \n",
       "\n",
       "         landtaxvaluedollarcnt  taxamount  taxdelinquencyflag  \\\n",
       "2869608                    NaN     415.56                 NaN   \n",
       "2463813               186276.0    3216.78                 NaN   \n",
       "394968                131970.0    2129.00                 NaN   \n",
       "238883                359000.0    5877.88                 NaN   \n",
       "451294                 30366.0    1378.44                 NaN   \n",
       "313301                     NaN     124.72                 NaN   \n",
       "2190233               414519.0    6450.80                 NaN   \n",
       "550805                219000.0    3865.40                 NaN   \n",
       "528246                359000.0    6051.59                 NaN   \n",
       "2289799               519726.0   16472.82                 NaN   \n",
       "\n",
       "         taxdelinquencyyear  censustractandblock  \n",
       "2869608                 NaN                  NaN  \n",
       "2463813                 NaN         6.059087e+13  \n",
       "394968                  NaN         6.037295e+13  \n",
       "238883                  NaN         6.111006e+13  \n",
       "451294                  NaN         6.037483e+13  \n",
       "313301                  NaN         6.111005e+13  \n",
       "2190233                 NaN         6.037701e+13  \n",
       "550805                  NaN         6.111004e+13  \n",
       "528246                  NaN         6.037570e+13  \n",
       "2289799                 NaN         6.059052e+13  \n",
       "\n",
       "[10 rows x 58 columns]"
      ]
     },
     "execution_count": 6,
     "metadata": {},
     "output_type": "execute_result"
    }
   ],
   "source": [
    "df_sample.head(n=10)"
   ]
  },
  {
   "cell_type": "code",
   "execution_count": 3,
   "metadata": {
    "collapsed": false
   },
   "outputs": [
    {
     "name": "stdout",
     "output_type": "stream",
     "text": [
      "0.18.0\n"
     ]
    }
   ],
   "source": [
    "print pd.__version__"
   ]
  },
  {
   "cell_type": "code",
   "execution_count": null,
   "metadata": {
    "collapsed": true
   },
   "outputs": [],
   "source": []
  },
  {
   "cell_type": "code",
   "execution_count": null,
   "metadata": {
    "collapsed": true
   },
   "outputs": [],
   "source": []
  },
  {
   "cell_type": "code",
   "execution_count": null,
   "metadata": {
    "collapsed": true
   },
   "outputs": [],
   "source": []
  },
  {
   "cell_type": "code",
   "execution_count": null,
   "metadata": {
    "collapsed": true
   },
   "outputs": [],
   "source": []
  },
  {
   "cell_type": "code",
   "execution_count": null,
   "metadata": {
    "collapsed": true
   },
   "outputs": [],
   "source": []
  },
  {
   "cell_type": "code",
   "execution_count": null,
   "metadata": {
    "collapsed": true
   },
   "outputs": [],
   "source": []
  }
 ],
 "metadata": {
  "kernelspec": {
   "display_name": "Python 2",
   "language": "python",
   "name": "python2"
  },
  "language_info": {
   "codemirror_mode": {
    "name": "ipython",
    "version": 2
   },
   "file_extension": ".py",
   "mimetype": "text/x-python",
   "name": "python",
   "nbconvert_exporter": "python",
   "pygments_lexer": "ipython2",
   "version": "2.7.11"
  }
 },
 "nbformat": 4,
 "nbformat_minor": 0
}
